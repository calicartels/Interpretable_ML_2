{
  "nbformat": 4,
  "nbformat_minor": 0,
  "metadata": {
    "colab": {
      "private_outputs": true,
      "provenance": [],
      "authorship_tag": "ABX9TyNp0pLAziGycPNxI5iSbhT9",
      "include_colab_link": true
    },
    "kernelspec": {
      "name": "python3",
      "display_name": "Python 3"
    },
    "language_info": {
      "name": "python"
    }
  },
  "cells": [
    {
      "cell_type": "markdown",
      "metadata": {
        "id": "view-in-github",
        "colab_type": "text"
      },
      "source": [
        "<a href=\"https://colab.research.google.com/github/calicartels/Interpretable_ML_2/blob/main/XAI_W4_interpretable_models_2.ipynb\" target=\"_parent\"><img src=\"https://colab.research.google.com/assets/colab-badge.svg\" alt=\"Open In Colab\"/></a>"
      ]
    },
    {
      "cell_type": "code",
      "execution_count": null,
      "metadata": {
        "id": "oFzqC46opheM"
      },
      "outputs": [],
      "source": [
        "!pip install imodels\n"
      ]
    },
    {
      "cell_type": "markdown",
      "source": [
        "Using the Breast cancer detection dataset."
      ],
      "metadata": {
        "id": "x2QZvpYeH7ht"
      }
    },
    {
      "cell_type": "code",
      "source": [
        "\n",
        "# Importing and Data Loading\n",
        "import pandas as pd\n",
        "from sklearn.datasets import load_breast_cancer\n",
        "from sklearn.model_selection import train_test_split\n",
        "from sklearn.metrics import accuracy_score\n",
        "from imodels import SlipperClassifier, RuleFitClassifier, FIGSClassifier\n",
        "import warnings\n",
        "warnings.filterwarnings('ignore')"
      ],
      "metadata": {
        "id": "gYBaYMKJG9Om"
      },
      "execution_count": null,
      "outputs": []
    },
    {
      "cell_type": "code",
      "source": [
        "\n",
        "# Loading the Breast Cancer dataset\n",
        "def load_data():\n",
        "    \"\"\"\n",
        "    Loads the Breast Cancer dataset and splits it into training and testing sets.\n",
        "    \"\"\"\n",
        "    data = load_breast_cancer()\n",
        "    X = pd.DataFrame(data.data, columns=data.feature_names)\n",
        "    y = data.target\n",
        "    return train_test_split(X, y, test_size=0.2, random_state=42)\n",
        "\n",
        "X_train, X_test, y_train, y_test = load_data()"
      ],
      "metadata": {
        "id": "UiTvYDjdG_96"
      },
      "execution_count": null,
      "outputs": []
    },
    {
      "cell_type": "code",
      "source": [
        "# 2. SLIPPER Model\n",
        "# Training and Evaluate SLIPPER\n",
        "slipper_model = SlipperClassifier()\n",
        "slipper_model.fit(X_train, y_train)\n",
        "y_pred_slipper = slipper_model.predict(X_test)\n",
        "accuracy_slipper = accuracy_score(y_test, y_pred_slipper)\n",
        "print(f\"SLIPPER Model Accuracy: {accuracy_slipper * 100:.2f}%\")\n",
        "\n",
        "# Displaying SLIPPER Rules\n",
        "if hasattr(slipper_model, 'rules_'):\n",
        "    print(\"\\nSLIPPER Rules:\")\n",
        "    for rule in slipper_model.rules_:\n",
        "        print(rule)"
      ],
      "metadata": {
        "id": "PwXnZx2QHEJ8"
      },
      "execution_count": null,
      "outputs": []
    },
    {
      "cell_type": "code",
      "source": [
        "\n",
        "# 3. RuleFit Model\n",
        "# Training and Evaluate RuleFit\n",
        "rulefit_model = RuleFitClassifier()\n",
        "rulefit_model.fit(X_train, y_train)\n",
        "y_pred_rulefit = rulefit_model.predict(X_test)\n",
        "accuracy_rulefit = accuracy_score(y_test, y_pred_rulefit)\n",
        "print(f\"RuleFit Model Accuracy: {accuracy_rulefit * 100:.2f}%\")\n",
        "\n",
        "# Displaying RuleFit Rules\n",
        "if hasattr(rulefit_model, 'rules_'):\n",
        "    print(\"\\nRuleFit Rules:\")\n",
        "    for rule in rulefit_model.rules_:\n",
        "        print(rule)"
      ],
      "metadata": {
        "id": "h50emE1gHGIA"
      },
      "execution_count": null,
      "outputs": []
    },
    {
      "cell_type": "code",
      "source": [
        "\n",
        "\n",
        "# 4. FIGS Model\n",
        "# Training and Evaluate FIGS\n",
        "figs_model = FIGSClassifier()\n",
        "figs_model.fit(X_train, y_train)\n",
        "y_pred_figs = figs_model.predict(X_test)\n",
        "accuracy_figs = accuracy_score(y_test, y_pred_figs)\n",
        "print(f\"FIGS Model Accuracy: {accuracy_figs * 100:.2f}%\")\n",
        "\n"
      ],
      "metadata": {
        "id": "j-At0TT7ppRR"
      },
      "execution_count": null,
      "outputs": []
    },
    {
      "cell_type": "code",
      "source": [],
      "metadata": {
        "id": "85S4K972rbJa"
      },
      "execution_count": null,
      "outputs": []
    }
  ]
}